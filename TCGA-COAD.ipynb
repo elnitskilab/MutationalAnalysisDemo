{
 "cells": [
  {
   "cell_type": "code",
   "execution_count": 1,
   "metadata": {},
   "outputs": [],
   "source": [
    "import yaml\n",
    "import json\n",
    "import pandas as pd\n",
    "from clustergrammer import Network\n",
    "from clustergrammer_widget import *"
   ]
  },
  {
   "cell_type": "code",
   "execution_count": 2,
   "metadata": {},
   "outputs": [],
   "source": [
    "signature_labels = yaml.load(open('COSMICv3_labels.yml'), Loader=yaml.FullLoader)\n",
    "DDR_genes = yaml.load(open('DDR_genes.yml'), Loader=yaml.FullLoader)\n",
    "genes_DDR = {}\n",
    "for k, vlist in DDR_genes.items():\n",
    "    for v in vlist:\n",
    "        genes_DDR[v.upper()] = k\n",
    "\n",
    "samples = json.load(open('TCGA_COAD_cases.json'))\n",
    "sample_labels = {}\n",
    "\n",
    "for s in samples:\n",
    "    if 'diagnoses' not in s:\n",
    "        continue\n",
    "    sample = s['submitter_id']\n",
    "    label = s['diagnoses'][0]['primary_diagnosis'].split(\",\")[0]\n",
    "    sample_labels[sample] = (\n",
    "        'Sample: {}'.format(sample),\n",
    "        'Subtype: {}'.format(label),\n",
    "        'Methylation: {}'.format(\"Define here!\"))"
   ]
  },
  {
   "cell_type": "code",
   "execution_count": null,
   "metadata": {},
   "outputs": [],
   "source": []
  },
  {
   "cell_type": "markdown",
   "metadata": {},
   "source": [
    "## Mutational Signatures"
   ]
  },
  {
   "cell_type": "code",
   "execution_count": 3,
   "metadata": {},
   "outputs": [
    {
     "data": {
      "text/html": [
       "<div>\n",
       "<style scoped>\n",
       "    .dataframe tbody tr th:only-of-type {\n",
       "        vertical-align: middle;\n",
       "    }\n",
       "\n",
       "    .dataframe tbody tr th {\n",
       "        vertical-align: top;\n",
       "    }\n",
       "\n",
       "    .dataframe thead th {\n",
       "        text-align: right;\n",
       "    }\n",
       "</style>\n",
       "<table border=\"1\" class=\"dataframe\">\n",
       "  <thead>\n",
       "    <tr style=\"text-align: right;\">\n",
       "      <th></th>\n",
       "      <th>sample</th>\n",
       "      <th>signature</th>\n",
       "      <th>exposure</th>\n",
       "      <th>mutations</th>\n",
       "    </tr>\n",
       "  </thead>\n",
       "  <tbody>\n",
       "    <tr>\n",
       "      <td>0</td>\n",
       "      <td>TCGA-AA-3966-01A-01D-1981-10</td>\n",
       "      <td>COSMICv3-SBS15</td>\n",
       "      <td>0.223284</td>\n",
       "      <td>201</td>\n",
       "    </tr>\n",
       "    <tr>\n",
       "      <td>1</td>\n",
       "      <td>TCGA-AA-3966-01A-01D-1981-10</td>\n",
       "      <td>COSMICv3-SBS6</td>\n",
       "      <td>0.125008</td>\n",
       "      <td>113</td>\n",
       "    </tr>\n",
       "    <tr>\n",
       "      <td>2</td>\n",
       "      <td>TCGA-AA-3966-01A-01D-1981-10</td>\n",
       "      <td>COSMICv3-SBS20</td>\n",
       "      <td>0.114956</td>\n",
       "      <td>104</td>\n",
       "    </tr>\n",
       "    <tr>\n",
       "      <td>3</td>\n",
       "      <td>TCGA-AA-3966-01A-01D-1981-10</td>\n",
       "      <td>COSMICv3-SBS54</td>\n",
       "      <td>0.098486</td>\n",
       "      <td>89</td>\n",
       "    </tr>\n",
       "    <tr>\n",
       "      <td>4</td>\n",
       "      <td>TCGA-AA-3966-01A-01D-1981-10</td>\n",
       "      <td>COSMICv3-SBS21</td>\n",
       "      <td>0.059189</td>\n",
       "      <td>53</td>\n",
       "    </tr>\n",
       "    <tr>\n",
       "      <td>...</td>\n",
       "      <td>...</td>\n",
       "      <td>...</td>\n",
       "      <td>...</td>\n",
       "      <td>...</td>\n",
       "    </tr>\n",
       "    <tr>\n",
       "      <td>7318</td>\n",
       "      <td>TCGA-AA-3496-01A-21D-1835-10</td>\n",
       "      <td>COSMICv3-SBS17a</td>\n",
       "      <td>0.012159</td>\n",
       "      <td>2</td>\n",
       "    </tr>\n",
       "    <tr>\n",
       "      <td>7319</td>\n",
       "      <td>TCGA-AA-3496-01A-21D-1835-10</td>\n",
       "      <td>COSMICv3-SBS48</td>\n",
       "      <td>0.009352</td>\n",
       "      <td>1</td>\n",
       "    </tr>\n",
       "    <tr>\n",
       "      <td>7320</td>\n",
       "      <td>TCGA-AA-3496-01A-21D-1835-10</td>\n",
       "      <td>COSMICv3-SBS7d</td>\n",
       "      <td>0.008737</td>\n",
       "      <td>1</td>\n",
       "    </tr>\n",
       "    <tr>\n",
       "      <td>7321</td>\n",
       "      <td>TCGA-AA-3496-01A-21D-1835-10</td>\n",
       "      <td>COSMICv3-SBS49</td>\n",
       "      <td>0.005208</td>\n",
       "      <td>1</td>\n",
       "    </tr>\n",
       "    <tr>\n",
       "      <td>7322</td>\n",
       "      <td>TCGA-AA-3496-01A-21D-1835-10</td>\n",
       "      <td>COSMICv3-SBS27</td>\n",
       "      <td>0.004439</td>\n",
       "      <td>1</td>\n",
       "    </tr>\n",
       "  </tbody>\n",
       "</table>\n",
       "<p>7323 rows × 4 columns</p>\n",
       "</div>"
      ],
      "text/plain": [
       "                            sample        signature  exposure  mutations\n",
       "0     TCGA-AA-3966-01A-01D-1981-10   COSMICv3-SBS15  0.223284        201\n",
       "1     TCGA-AA-3966-01A-01D-1981-10    COSMICv3-SBS6  0.125008        113\n",
       "2     TCGA-AA-3966-01A-01D-1981-10   COSMICv3-SBS20  0.114956        104\n",
       "3     TCGA-AA-3966-01A-01D-1981-10   COSMICv3-SBS54  0.098486         89\n",
       "4     TCGA-AA-3966-01A-01D-1981-10   COSMICv3-SBS21  0.059189         53\n",
       "...                            ...              ...       ...        ...\n",
       "7318  TCGA-AA-3496-01A-21D-1835-10  COSMICv3-SBS17a  0.012159          2\n",
       "7319  TCGA-AA-3496-01A-21D-1835-10   COSMICv3-SBS48  0.009352          1\n",
       "7320  TCGA-AA-3496-01A-21D-1835-10   COSMICv3-SBS7d  0.008737          1\n",
       "7321  TCGA-AA-3496-01A-21D-1835-10   COSMICv3-SBS49  0.005208          1\n",
       "7322  TCGA-AA-3496-01A-21D-1835-10   COSMICv3-SBS27  0.004439          1\n",
       "\n",
       "[7323 rows x 4 columns]"
      ]
     },
     "execution_count": 3,
     "metadata": {},
     "output_type": "execute_result"
    }
   ],
   "source": [
    "cosmic = pd.read_table(\"COAD.txt\")\n",
    "cosmic"
   ]
  },
  {
   "cell_type": "code",
   "execution_count": 9,
   "metadata": {},
   "outputs": [
    {
     "name": "stdout",
     "output_type": "stream",
     "text": [
      "                            sample                 signature  exposure\n",
      "0     TCGA-AA-3966-01A-01D-1981-10                  15 (MMR)  0.223284\n",
      "1     TCGA-AA-3966-01A-01D-1981-10               6 (DDR MSI)  0.125008\n",
      "2     TCGA-AA-3966-01A-01D-1981-10           20 (MMR, POLD1)  0.114956\n",
      "3     TCGA-AA-3966-01A-01D-1981-10  54 (Sequencing artifact)  0.098486\n",
      "4     TCGA-AA-3966-01A-01D-1981-10                  21 (MMR)  0.059189\n",
      "...                            ...                       ...       ...\n",
      "1712  TCGA-CM-5344-01A-21D-1719-10                  15 (MMR)  0.063539\n",
      "1713  TCGA-CM-5344-01A-21D-1719-10               6 (DDR MSI)  0.061794\n",
      "1714  TCGA-AA-3496-01A-21D-1835-10                 1 (5mC>T)  0.516963\n",
      "1715  TCGA-AA-3496-01A-21D-1835-10                        42  0.140978\n",
      "1716  TCGA-AA-3496-01A-21D-1835-10  10b (Polymerase epsilon)  0.083581\n",
      "\n",
      "[1717 rows x 3 columns]\n"
     ]
    }
   ],
   "source": [
    "# threshold on the exposure 5%\n",
    "# rename signatures and samples\n",
    "# it's not quite \"the pandas way\", but does the job\n",
    "\n",
    "samples = []\n",
    "signatures = []\n",
    "exposures = []\n",
    "\n",
    "for idx, row in cosmic.iterrows():\n",
    "    exposure = row['exposure']\n",
    "    if exposure < 0.05:\n",
    "        continue\n",
    "    \n",
    "    sample = row['sample'] # [:12]\n",
    "    samples.append(sample)\n",
    "    \n",
    "    signature = row['signature'].split(\"-\", 1)[1][3:]\n",
    "    if signature in signature_labels:\n",
    "        signature = \"{} ({})\".format(signature, signature_labels.get(signature, \"\"))\n",
    "    signatures.append(signature)\n",
    "    \n",
    "    exposures.append(exposure)\n",
    "\n",
    "df_long = pd.DataFrame({'sample': samples, 'signature': signatures, 'exposure': exposures})\n",
    "print(df_long)"
   ]
  },
  {
   "cell_type": "code",
   "execution_count": 11,
   "metadata": {},
   "outputs": [
    {
     "data": {
      "text/plain": [
       "Index(['TCGA-3L-AA1B-01A-11D-A36X-10', 'TCGA-4N-A93T-01A-11D-A36X-10',\n",
       "       'TCGA-4T-AA8H-01A-11D-A40P-10', 'TCGA-5M-AAT4-01A-11D-A40P-10',\n",
       "       'TCGA-5M-AAT5-01A-21D-A40P-10', 'TCGA-5M-AAT6-01A-11D-A40P-10',\n",
       "       'TCGA-5M-AATA-01A-31D-A40P-10', 'TCGA-5M-AATE-01A-11D-A40P-10',\n",
       "       'TCGA-A6-2671-01A-01D-1408-10', 'TCGA-A6-2672-01B-03D-2298-08',\n",
       "       ...\n",
       "       'TCGA-QG-A5YV-01A-11D-A28G-10', 'TCGA-QG-A5YW-01A-11D-A28G-10',\n",
       "       'TCGA-QG-A5YX-01A-11D-A28G-10', 'TCGA-QG-A5Z1-01A-11D-A28G-10',\n",
       "       'TCGA-QG-A5Z2-01A-11D-A28G-10', 'TCGA-QL-A97D-01A-12D-A40P-10',\n",
       "       'TCGA-RU-A8FL-01A-11D-A36X-10', 'TCGA-SS-A7HO-01A-21D-A36X-10',\n",
       "       'TCGA-T9-A92H-01A-11D-A36X-10', 'TCGA-WS-AB45-01A-11D-A40P-10'],\n",
       "      dtype='object', name='sample', length=399)"
      ]
     },
     "execution_count": 11,
     "metadata": {},
     "output_type": "execute_result"
    }
   ],
   "source": [
    "# From long format to wide format\n",
    "df = df_long.pivot(index='signature', columns='sample', values='exposure').fillna(0.0)\n",
    "df.columns"
   ]
  },
  {
   "cell_type": "code",
   "execution_count": 12,
   "metadata": {},
   "outputs": [],
   "source": [
    "net = Network(clustergrammer_widget)\n",
    "net.load_df(df)"
   ]
  },
  {
   "cell_type": "code",
   "execution_count": 13,
   "metadata": {},
   "outputs": [],
   "source": [
    "net.cluster()"
   ]
  },
  {
   "cell_type": "code",
   "execution_count": 14,
   "metadata": {
    "scrolled": false
   },
   "outputs": [
    {
     "data": {
      "application/vnd.jupyter.widget-view+json": {
       "model_id": "2cda2a21978d424e9eeecbb92642e6e1",
       "version_major": 2,
       "version_minor": 0
      },
      "text/plain": [
       "clustergrammer_widget(network='{\"row_nodes\": [{\"name\": \"1 (5mC>T)\", \"ini\": 58, \"clust\": 56, \"rank\": 57, \"rankv…"
      ]
     },
     "metadata": {},
     "output_type": "display_data"
    }
   ],
   "source": [
    "net.widget()"
   ]
  },
  {
   "cell_type": "markdown",
   "metadata": {},
   "source": [
    "## Mutations in DDR genes\n"
   ]
  },
  {
   "cell_type": "code",
   "execution_count": 15,
   "metadata": {},
   "outputs": [],
   "source": [
    "fname = \"TCGA.COAD.mutect.03652df4-6090-4f5a-a2ff-ee28a37f9301.DR-10.0.somatic.maf\""
   ]
  },
  {
   "cell_type": "code",
   "execution_count": 16,
   "metadata": {},
   "outputs": [
    {
     "name": "stderr",
     "output_type": "stream",
     "text": [
      "/Users/gonceare/anaconda3/envs/mutations/lib/python3.7/site-packages/IPython/core/interactiveshell.py:3063: DtypeWarning: Columns (87,98,118) have mixed types. Specify dtype option on import or set low_memory=False.\n",
      "  interactivity=interactivity, compiler=compiler, result=result)\n"
     ]
    }
   ],
   "source": [
    "maf = pd.read_table(fname, delimiter=\"\\t\", skiprows=5)"
   ]
  },
  {
   "cell_type": "code",
   "execution_count": 17,
   "metadata": {},
   "outputs": [
    {
     "data": {
      "text/plain": [
       "['Hugo_Symbol',\n",
       " 'Entrez_Gene_Id',\n",
       " 'Center',\n",
       " 'NCBI_Build',\n",
       " 'Chromosome',\n",
       " 'Start_Position',\n",
       " 'End_Position',\n",
       " 'Strand',\n",
       " 'Variant_Classification',\n",
       " 'Variant_Type',\n",
       " 'Reference_Allele',\n",
       " 'Tumor_Seq_Allele1',\n",
       " 'Tumor_Seq_Allele2',\n",
       " 'dbSNP_RS',\n",
       " 'dbSNP_Val_Status',\n",
       " 'Tumor_Sample_Barcode',\n",
       " 'Matched_Norm_Sample_Barcode',\n",
       " 'Match_Norm_Seq_Allele1',\n",
       " 'Match_Norm_Seq_Allele2',\n",
       " 'Tumor_Validation_Allele1',\n",
       " 'Tumor_Validation_Allele2',\n",
       " 'Match_Norm_Validation_Allele1',\n",
       " 'Match_Norm_Validation_Allele2',\n",
       " 'Verification_Status',\n",
       " 'Validation_Status',\n",
       " 'Mutation_Status',\n",
       " 'Sequencing_Phase',\n",
       " 'Sequence_Source',\n",
       " 'Validation_Method',\n",
       " 'Score',\n",
       " 'BAM_File',\n",
       " 'Sequencer',\n",
       " 'Tumor_Sample_UUID',\n",
       " 'Matched_Norm_Sample_UUID',\n",
       " 'HGVSc',\n",
       " 'HGVSp',\n",
       " 'HGVSp_Short',\n",
       " 'Transcript_ID',\n",
       " 'Exon_Number',\n",
       " 't_depth',\n",
       " 't_ref_count',\n",
       " 't_alt_count',\n",
       " 'n_depth',\n",
       " 'n_ref_count',\n",
       " 'n_alt_count',\n",
       " 'all_effects',\n",
       " 'Allele',\n",
       " 'Gene',\n",
       " 'Feature',\n",
       " 'Feature_type',\n",
       " 'One_Consequence',\n",
       " 'Consequence',\n",
       " 'cDNA_position',\n",
       " 'CDS_position',\n",
       " 'Protein_position',\n",
       " 'Amino_acids',\n",
       " 'Codons',\n",
       " 'Existing_variation',\n",
       " 'ALLELE_NUM',\n",
       " 'DISTANCE',\n",
       " 'TRANSCRIPT_STRAND',\n",
       " 'SYMBOL',\n",
       " 'SYMBOL_SOURCE',\n",
       " 'HGNC_ID',\n",
       " 'BIOTYPE',\n",
       " 'CANONICAL',\n",
       " 'CCDS',\n",
       " 'ENSP',\n",
       " 'SWISSPROT',\n",
       " 'TREMBL',\n",
       " 'UNIPARC',\n",
       " 'RefSeq',\n",
       " 'SIFT',\n",
       " 'PolyPhen',\n",
       " 'EXON',\n",
       " 'INTRON',\n",
       " 'DOMAINS',\n",
       " 'GMAF',\n",
       " 'AFR_MAF',\n",
       " 'AMR_MAF',\n",
       " 'ASN_MAF',\n",
       " 'EAS_MAF',\n",
       " 'EUR_MAF',\n",
       " 'SAS_MAF',\n",
       " 'AA_MAF',\n",
       " 'EA_MAF',\n",
       " 'CLIN_SIG',\n",
       " 'SOMATIC',\n",
       " 'PUBMED',\n",
       " 'MOTIF_NAME',\n",
       " 'MOTIF_POS',\n",
       " 'HIGH_INF_POS',\n",
       " 'MOTIF_SCORE_CHANGE',\n",
       " 'IMPACT',\n",
       " 'PICK',\n",
       " 'VARIANT_CLASS',\n",
       " 'TSL',\n",
       " 'HGVS_OFFSET',\n",
       " 'PHENO',\n",
       " 'MINIMISED',\n",
       " 'ExAC_AF',\n",
       " 'ExAC_AF_Adj',\n",
       " 'ExAC_AF_AFR',\n",
       " 'ExAC_AF_AMR',\n",
       " 'ExAC_AF_EAS',\n",
       " 'ExAC_AF_FIN',\n",
       " 'ExAC_AF_NFE',\n",
       " 'ExAC_AF_OTH',\n",
       " 'ExAC_AF_SAS',\n",
       " 'GENE_PHENO',\n",
       " 'FILTER',\n",
       " 'CONTEXT',\n",
       " 'src_vcf_id',\n",
       " 'tumor_bam_uuid',\n",
       " 'normal_bam_uuid',\n",
       " 'case_id',\n",
       " 'GDC_FILTER',\n",
       " 'COSMIC',\n",
       " 'MC3_Overlap',\n",
       " 'GDC_Validation_Status']"
      ]
     },
     "execution_count": 17,
     "metadata": {},
     "output_type": "execute_result"
    }
   ],
   "source": [
    "list(maf.columns)"
   ]
  },
  {
   "cell_type": "code",
   "execution_count": 20,
   "metadata": {},
   "outputs": [],
   "source": [
    "# m['Hugo_Symbol']\n",
    "# m['Tumor_Sample_Barcode']\n",
    "\n",
    "samples = []\n",
    "genes = []\n",
    "mutations = []\n",
    "\n",
    "CONSERVATIVE_MODE = True\n",
    "\n",
    "gene_sample_pairs = set()\n",
    "\n",
    "for idx, row in maf.iterrows():\n",
    "    if CONSERVATIVE_MODE:\n",
    "        if row['Variant_Classification'] not in ('Missense_Mutation', 'In_Frame_Del', 'Frame_Shift_Del', 'Nonsense_Mutation'):\n",
    "            continue\n",
    "\n",
    "    gene = row['Hugo_Symbol'].upper()\n",
    "    if gene not in genes_DDR:\n",
    "        continue\n",
    "\n",
    "    gene = ('Gene: {}'.format(gene), 'DDR mechanism: {}'.format(genes_DDR[gene]))\n",
    "\n",
    "    sample = row['Tumor_Sample_Barcode']  # [:12]\n",
    "\n",
    "    value = int(row['t_alt_count']) / float(int(row['t_depth']))\n",
    "\n",
    "    if (gene, sample) in gene_sample_pairs:\n",
    "        continue\n",
    "    \n",
    "    samples.append(sample)    \n",
    "    genes.append(gene)\n",
    "    mutations.append(value)\n",
    "    gene_sample_pairs.add((gene, sample))\n",
    "    \n",
    "df_gene_long = pd.DataFrame({'sample': samples, 'gene': genes, 'mutation': mutations})\n",
    "df_gene = df_gene_long.pivot(index='gene', columns='sample', values='mutation').fillna(0.0)"
   ]
  },
  {
   "cell_type": "code",
   "execution_count": 21,
   "metadata": {},
   "outputs": [],
   "source": [
    "net_gene = Network(clustergrammer_widget)\n",
    "net_gene.load_df(df_gene)"
   ]
  },
  {
   "cell_type": "code",
   "execution_count": 22,
   "metadata": {},
   "outputs": [],
   "source": [
    "net_gene.cluster()"
   ]
  },
  {
   "cell_type": "code",
   "execution_count": 23,
   "metadata": {},
   "outputs": [
    {
     "data": {
      "application/vnd.jupyter.widget-view+json": {
       "model_id": "ae986793cad344dd8142968f18406b54",
       "version_major": 2,
       "version_minor": 0
      },
      "text/plain": [
       "clustergrammer_widget(network='{\"row_nodes\": [{\"name\": \"Gene: ALKBH2\", \"ini\": 172, \"clust\": 73, \"rank\": 20, \"r…"
      ]
     },
     "metadata": {},
     "output_type": "display_data"
    }
   ],
   "source": [
    "net_gene.widget()"
   ]
  },
  {
   "cell_type": "code",
   "execution_count": null,
   "metadata": {},
   "outputs": [],
   "source": []
  }
 ],
 "metadata": {
  "kernelspec": {
   "display_name": "Python 3",
   "language": "python",
   "name": "python3"
  },
  "language_info": {
   "codemirror_mode": {
    "name": "ipython",
    "version": 3
   },
   "file_extension": ".py",
   "mimetype": "text/x-python",
   "name": "python",
   "nbconvert_exporter": "python",
   "pygments_lexer": "ipython3",
   "version": "3.7.7"
  }
 },
 "nbformat": 4,
 "nbformat_minor": 4
}
